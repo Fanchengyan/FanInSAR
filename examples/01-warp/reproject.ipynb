{
 "cells": [
  {
   "cell_type": "markdown",
   "metadata": {},
   "source": [
    "# Reproject dataset\n",
    "\n",
    "This notebook is a simple example of how to reproject a dataset by providing a new crs."
   ]
  }
 ],
 "metadata": {
  "language_info": {
   "name": "python"
  }
 },
 "nbformat": 4,
 "nbformat_minor": 2
}
