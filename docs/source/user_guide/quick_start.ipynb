{
 "cells": [
  {
   "cell_type": "markdown",
   "metadata": {},
   "source": [
    "# Quick Start Guide\n",
    "\n",
    "This guide will help you get started with basic usage of the FanInSAR library.\n",
    "\n",
    "\n",
    "Customarily, we import as follows:"
   ]
  },
  {
   "cell_type": "code",
   "execution_count": 4,
   "metadata": {},
   "outputs": [],
   "source": [
    "from pathlib import Path\n",
    "import faninsar as fis\n",
    "from faninsar import datasets, NSBAS, query"
   ]
  },
  {
   "cell_type": "markdown",
   "metadata": {},
   "source": [
    "## Load InSAR data\n",
    "\n",
    "FanInSAR library provides a series of classes to load well-known InSAR products. Here we will use the HyP3 for example. To load the HyP3 data, you just need to provide the home directory of the HyP3 data and pass it to the `HyP3` class."
   ]
  },
  {
   "cell_type": "code",
   "execution_count": 5,
   "metadata": {},
   "outputs": [],
   "source": [
    "home_dir = Path(\"/Volumes/Data/GeoData/YNG/Sentinel1/Hyp3/descending_roi/\")\n",
    "ds_unw = datasets.HyP3(home_dir, verbose=True)"
   ]
  },
  {
   "cell_type": "markdown",
   "metadata": {},
   "source": [
    "All unwrapped interferograms stored in the home directory will be automatically scanned. You can view them by calling `files` property of the HyP3 object. The file paths and whether the file is valid or not will be displayed in the DataFrame format."
   ]
  },
  {
   "cell_type": "code",
   "execution_count": 7,
   "metadata": {},
   "outputs": [
    {
     "data": {
      "text/html": [
       "<div>\n",
       "<style scoped>\n",
       "    .dataframe tbody tr th:only-of-type {\n",
       "        vertical-align: middle;\n",
       "    }\n",
       "\n",
       "    .dataframe tbody tr th {\n",
       "        vertical-align: top;\n",
       "    }\n",
       "\n",
       "    .dataframe thead th {\n",
       "        text-align: right;\n",
       "    }\n",
       "</style>\n",
       "<table border=\"1\" class=\"dataframe\">\n",
       "  <thead>\n",
       "    <tr style=\"text-align: right;\">\n",
       "      <th></th>\n",
       "      <th>paths</th>\n",
       "      <th>valid</th>\n",
       "    </tr>\n",
       "  </thead>\n",
       "  <tbody>\n",
       "    <tr>\n",
       "      <th>0</th>\n",
       "      <td>/Volumes/Data/GeoData/YNG/Sentinel1/Hyp3/desce...</td>\n",
       "      <td>True</td>\n",
       "    </tr>\n",
       "    <tr>\n",
       "      <th>1</th>\n",
       "      <td>/Volumes/Data/GeoData/YNG/Sentinel1/Hyp3/desce...</td>\n",
       "      <td>True</td>\n",
       "    </tr>\n",
       "    <tr>\n",
       "      <th>2</th>\n",
       "      <td>/Volumes/Data/GeoData/YNG/Sentinel1/Hyp3/desce...</td>\n",
       "      <td>True</td>\n",
       "    </tr>\n",
       "    <tr>\n",
       "      <th>3</th>\n",
       "      <td>/Volumes/Data/GeoData/YNG/Sentinel1/Hyp3/desce...</td>\n",
       "      <td>True</td>\n",
       "    </tr>\n",
       "    <tr>\n",
       "      <th>4</th>\n",
       "      <td>/Volumes/Data/GeoData/YNG/Sentinel1/Hyp3/desce...</td>\n",
       "      <td>True</td>\n",
       "    </tr>\n",
       "    <tr>\n",
       "      <th>...</th>\n",
       "      <td>...</td>\n",
       "      <td>...</td>\n",
       "    </tr>\n",
       "    <tr>\n",
       "      <th>2745</th>\n",
       "      <td>/Volumes/Data/GeoData/YNG/Sentinel1/Hyp3/desce...</td>\n",
       "      <td>True</td>\n",
       "    </tr>\n",
       "    <tr>\n",
       "      <th>2746</th>\n",
       "      <td>/Volumes/Data/GeoData/YNG/Sentinel1/Hyp3/desce...</td>\n",
       "      <td>True</td>\n",
       "    </tr>\n",
       "    <tr>\n",
       "      <th>2747</th>\n",
       "      <td>/Volumes/Data/GeoData/YNG/Sentinel1/Hyp3/desce...</td>\n",
       "      <td>True</td>\n",
       "    </tr>\n",
       "    <tr>\n",
       "      <th>2748</th>\n",
       "      <td>/Volumes/Data/GeoData/YNG/Sentinel1/Hyp3/desce...</td>\n",
       "      <td>True</td>\n",
       "    </tr>\n",
       "    <tr>\n",
       "      <th>2749</th>\n",
       "      <td>/Volumes/Data/GeoData/YNG/Sentinel1/Hyp3/desce...</td>\n",
       "      <td>True</td>\n",
       "    </tr>\n",
       "  </tbody>\n",
       "</table>\n",
       "<p>2750 rows × 2 columns</p>\n",
       "</div>"
      ],
      "text/plain": [
       "                                                  paths  valid\n",
       "0     /Volumes/Data/GeoData/YNG/Sentinel1/Hyp3/desce...   True\n",
       "1     /Volumes/Data/GeoData/YNG/Sentinel1/Hyp3/desce...   True\n",
       "2     /Volumes/Data/GeoData/YNG/Sentinel1/Hyp3/desce...   True\n",
       "3     /Volumes/Data/GeoData/YNG/Sentinel1/Hyp3/desce...   True\n",
       "4     /Volumes/Data/GeoData/YNG/Sentinel1/Hyp3/desce...   True\n",
       "...                                                 ...    ...\n",
       "2745  /Volumes/Data/GeoData/YNG/Sentinel1/Hyp3/desce...   True\n",
       "2746  /Volumes/Data/GeoData/YNG/Sentinel1/Hyp3/desce...   True\n",
       "2747  /Volumes/Data/GeoData/YNG/Sentinel1/Hyp3/desce...   True\n",
       "2748  /Volumes/Data/GeoData/YNG/Sentinel1/Hyp3/desce...   True\n",
       "2749  /Volumes/Data/GeoData/YNG/Sentinel1/Hyp3/desce...   True\n",
       "\n",
       "[2750 rows x 2 columns]"
      ]
     },
     "execution_count": 7,
     "metadata": {},
     "output_type": "execute_result"
    }
   ],
   "source": [
    "ds_unw.files"
   ]
  },
  {
   "cell_type": "markdown",
   "metadata": {},
   "source": [
    "We keep the same API with rasterio, so you can use directly access the resolution, bounds, and other properties of the data just like using rasterio. "
   ]
  },
  {
   "cell_type": "code",
   "execution_count": 11,
   "metadata": {},
   "outputs": [
    {
     "name": "stdout",
     "output_type": "stream",
     "text": [
      " res: (40.0, 40.0)\n",
      " bounds: BoundingBox(left=443501.82025355106, bottom=4263758.21737383, right=536101.820253551, top=4335118.21737383, crs=EPSG:32647)\n",
      " crs: EPSG:32647\n",
      " dtype: float32\n",
      " nodata: 0.0\n"
     ]
    }
   ],
   "source": [
    "print(f\" res: {ds_unw.res}\\n bounds: {ds_unw.bounds}\\n crs: {ds_unw.crs}\\n dtype: {ds_unw.dtype}\\n nodata: {ds_unw.nodata}\")"
   ]
  },
  {
   "cell_type": "markdown",
   "metadata": {},
   "source": [
    "The coherence dataset can be accessed by calling `coh_dataset` property of the HyP3 object. The coherence dataset is also `RasterDataset` object, so you can access the properties of the coherence dataset just like the unwrapped interferograms."
   ]
  },
  {
   "cell_type": "code",
   "execution_count": 18,
   "metadata": {},
   "outputs": [
    {
     "data": {
      "text/html": [
       "<div>\n",
       "<style scoped>\n",
       "    .dataframe tbody tr th:only-of-type {\n",
       "        vertical-align: middle;\n",
       "    }\n",
       "\n",
       "    .dataframe tbody tr th {\n",
       "        vertical-align: top;\n",
       "    }\n",
       "\n",
       "    .dataframe thead th {\n",
       "        text-align: right;\n",
       "    }\n",
       "</style>\n",
       "<table border=\"1\" class=\"dataframe\">\n",
       "  <thead>\n",
       "    <tr style=\"text-align: right;\">\n",
       "      <th></th>\n",
       "      <th>paths</th>\n",
       "      <th>valid</th>\n",
       "    </tr>\n",
       "  </thead>\n",
       "  <tbody>\n",
       "    <tr>\n",
       "      <th>0</th>\n",
       "      <td>/Volumes/Data/GeoData/YNG/Sentinel1/Hyp3/desce...</td>\n",
       "      <td>True</td>\n",
       "    </tr>\n",
       "    <tr>\n",
       "      <th>1</th>\n",
       "      <td>/Volumes/Data/GeoData/YNG/Sentinel1/Hyp3/desce...</td>\n",
       "      <td>True</td>\n",
       "    </tr>\n",
       "    <tr>\n",
       "      <th>2</th>\n",
       "      <td>/Volumes/Data/GeoData/YNG/Sentinel1/Hyp3/desce...</td>\n",
       "      <td>True</td>\n",
       "    </tr>\n",
       "    <tr>\n",
       "      <th>3</th>\n",
       "      <td>/Volumes/Data/GeoData/YNG/Sentinel1/Hyp3/desce...</td>\n",
       "      <td>True</td>\n",
       "    </tr>\n",
       "    <tr>\n",
       "      <th>4</th>\n",
       "      <td>/Volumes/Data/GeoData/YNG/Sentinel1/Hyp3/desce...</td>\n",
       "      <td>True</td>\n",
       "    </tr>\n",
       "    <tr>\n",
       "      <th>...</th>\n",
       "      <td>...</td>\n",
       "      <td>...</td>\n",
       "    </tr>\n",
       "    <tr>\n",
       "      <th>2745</th>\n",
       "      <td>/Volumes/Data/GeoData/YNG/Sentinel1/Hyp3/desce...</td>\n",
       "      <td>True</td>\n",
       "    </tr>\n",
       "    <tr>\n",
       "      <th>2746</th>\n",
       "      <td>/Volumes/Data/GeoData/YNG/Sentinel1/Hyp3/desce...</td>\n",
       "      <td>True</td>\n",
       "    </tr>\n",
       "    <tr>\n",
       "      <th>2747</th>\n",
       "      <td>/Volumes/Data/GeoData/YNG/Sentinel1/Hyp3/desce...</td>\n",
       "      <td>True</td>\n",
       "    </tr>\n",
       "    <tr>\n",
       "      <th>2748</th>\n",
       "      <td>/Volumes/Data/GeoData/YNG/Sentinel1/Hyp3/desce...</td>\n",
       "      <td>True</td>\n",
       "    </tr>\n",
       "    <tr>\n",
       "      <th>2749</th>\n",
       "      <td>/Volumes/Data/GeoData/YNG/Sentinel1/Hyp3/desce...</td>\n",
       "      <td>True</td>\n",
       "    </tr>\n",
       "  </tbody>\n",
       "</table>\n",
       "<p>2750 rows × 2 columns</p>\n",
       "</div>"
      ],
      "text/plain": [
       "                                                  paths  valid\n",
       "0     /Volumes/Data/GeoData/YNG/Sentinel1/Hyp3/desce...   True\n",
       "1     /Volumes/Data/GeoData/YNG/Sentinel1/Hyp3/desce...   True\n",
       "2     /Volumes/Data/GeoData/YNG/Sentinel1/Hyp3/desce...   True\n",
       "3     /Volumes/Data/GeoData/YNG/Sentinel1/Hyp3/desce...   True\n",
       "4     /Volumes/Data/GeoData/YNG/Sentinel1/Hyp3/desce...   True\n",
       "...                                                 ...    ...\n",
       "2745  /Volumes/Data/GeoData/YNG/Sentinel1/Hyp3/desce...   True\n",
       "2746  /Volumes/Data/GeoData/YNG/Sentinel1/Hyp3/desce...   True\n",
       "2747  /Volumes/Data/GeoData/YNG/Sentinel1/Hyp3/desce...   True\n",
       "2748  /Volumes/Data/GeoData/YNG/Sentinel1/Hyp3/desce...   True\n",
       "2749  /Volumes/Data/GeoData/YNG/Sentinel1/Hyp3/desce...   True\n",
       "\n",
       "[2750 rows x 2 columns]"
      ]
     },
     "execution_count": 18,
     "metadata": {},
     "output_type": "execute_result"
    }
   ],
   "source": [
    "ds_coh = ds_unw.coh_dataset\n",
    "ds_coh.files"
   ]
  },
  {
   "cell_type": "code",
   "execution_count": null,
   "metadata": {},
   "outputs": [],
   "source": []
  }
 ],
 "metadata": {
  "kernelspec": {
   "display_name": "geo",
   "language": "python",
   "name": "python3"
  },
  "language_info": {
   "codemirror_mode": {
    "name": "ipython",
    "version": 3
   },
   "file_extension": ".py",
   "mimetype": "text/x-python",
   "name": "python",
   "nbconvert_exporter": "python",
   "pygments_lexer": "ipython3",
   "version": "3.11.6"
  }
 },
 "nbformat": 4,
 "nbformat_minor": 2
}
