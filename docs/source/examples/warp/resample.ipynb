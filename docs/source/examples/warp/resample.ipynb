{
 "cells": [
  {
   "cell_type": "markdown",
   "metadata": {},
   "source": [
    "# Resampling dataset\n",
    "\n",
    "In this tutorial, you will discover how to resample your dataset, upscaling or downscaling the resolution, using the **FanInSAR**."
   ]
  }
 ],
 "metadata": {
  "language_info": {
   "name": "python"
  }
 },
 "nbformat": 4,
 "nbformat_minor": 2
}
